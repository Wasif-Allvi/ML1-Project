{
 "cells": [
  {
   "cell_type": "code",
   "execution_count": 8,
   "metadata": {},
   "outputs": [
    {
     "name": "stdout",
     "output_type": "stream",
     "text": [
      "       39          State-gov   77516      Bachelors   13        Never-married  \\\n",
      "0      50   Self-emp-not-inc   83311      Bachelors   13   Married-civ-spouse   \n",
      "1      38            Private  215646        HS-grad    9             Divorced   \n",
      "2      53            Private  234721           11th    7   Married-civ-spouse   \n",
      "3      28            Private  338409      Bachelors   13   Married-civ-spouse   \n",
      "4      37            Private  284582        Masters   14   Married-civ-spouse   \n",
      "...    ..                ...     ...            ...  ...                  ...   \n",
      "29994  30            Private   55481        Masters   14        Never-married   \n",
      "29995  48            Private  119471      Assoc-voc   11   Married-civ-spouse   \n",
      "29996  61          Local-gov  167347   Some-college   10   Married-civ-spouse   \n",
      "29997  41            Private  184378        HS-grad    9            Separated   \n",
      "29998  36            Private  348960        HS-grad    9        Never-married   \n",
      "\n",
      "             Adm-clerical   Not-in-family                White     Male  \\\n",
      "0         Exec-managerial         Husband                White     Male   \n",
      "1       Handlers-cleaners   Not-in-family                White     Male   \n",
      "2       Handlers-cleaners         Husband                Black     Male   \n",
      "3          Prof-specialty            Wife                Black   Female   \n",
      "4         Exec-managerial            Wife                White   Female   \n",
      "...                   ...             ...                  ...      ...   \n",
      "29994        Tech-support       Unmarried                White     Male   \n",
      "29995       Other-service         Husband   Asian-Pac-Islander     Male   \n",
      "29996        Adm-clerical         Husband                White     Male   \n",
      "29997        Craft-repair   Not-in-family                White     Male   \n",
      "29998        Tech-support   Not-in-family                White     Male   \n",
      "\n",
      "        2174   0   40   United-States   <=50K  \n",
      "0          0   0   13   United-States   <=50K  \n",
      "1          0   0   40   United-States   <=50K  \n",
      "2          0   0   40   United-States   <=50K  \n",
      "3          0   0   40            Cuba   <=50K  \n",
      "4          0   0   40   United-States   <=50K  \n",
      "...      ...  ..  ...             ...     ...  \n",
      "29994      0   0   45       Nicaragua       ?  \n",
      "29995      0   0   56     Philippines       ?  \n",
      "29996      0   0   35   United-States       ?  \n",
      "29997      0   0   40   United-States       ?  \n",
      "29998      0   0   50   United-States       ?  \n",
      "\n",
      "[29999 rows x 15 columns]\n"
     ]
    }
   ],
   "source": [
    "import pandas as pd\n",
    "import matplotlib.pyplot as plt\n",
    "import seaborn as sns\n",
    "\n",
    "# Correct file path\n",
    "file_path = '../data/einkommen.train'\n",
    "\n",
    "# Try to read the dataset (assuming it's in a readable format)\n",
    "data = pd.read_csv(file_path)\n",
    "\n",
    "# Display the first few rows of the dataset\n",
    "print(data.head())\n"
   ]
  },
  {
   "cell_type": "code",
   "execution_count": null,
   "metadata": {},
   "outputs": [],
   "source": []
  }
 ],
 "metadata": {
  "kernelspec": {
   "display_name": "Python 3",
   "language": "python",
   "name": "python3"
  },
  "language_info": {
   "codemirror_mode": {
    "name": "ipython",
    "version": 3
   },
   "file_extension": ".py",
   "mimetype": "text/x-python",
   "name": "python",
   "nbconvert_exporter": "python",
   "pygments_lexer": "ipython3",
   "version": "3.12.3"
  }
 },
 "nbformat": 4,
 "nbformat_minor": 2
}
